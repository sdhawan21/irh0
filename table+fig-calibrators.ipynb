{
 "cells": [
  {
   "cell_type": "code",
   "execution_count": 6,
   "metadata": {
    "collapsed": false
   },
   "outputs": [],
   "source": [
    "%matplotlib inline\n",
    "import matplotlib.pyplot as plt\n",
    "import numpy as np\n",
    "import datetime"
   ]
  },
  {
   "cell_type": "code",
   "execution_count": 7,
   "metadata": {
    "collapsed": false
   },
   "outputs": [],
   "source": [
    "# input file \n",
    "calib_datafile = \"calibrators.dat\"\n",
    "# output files\n",
    "output_table = \"table_calibrators.tex\"\n",
    "output_figure = \"fig_calibrators.pdf\""
   ]
  },
  {
   "cell_type": "code",
   "execution_count": 8,
   "metadata": {
    "collapsed": false,
    "scrolled": true
   },
   "outputs": [
    {
     "name": "stdout",
     "output_type": "stream",
     "text": [
      "ncalib: 9\n",
      "dispersion (stddev of residuals): 0.160 mag\n",
      "chisq/dof: 55.2/8\n",
      "weighted average (no intrinsic scatter): -18.524 +/- 0.021\n"
     ]
    }
   ],
   "source": [
    "# calibrators\n",
    "calib_readin = np.genfromtxt(calib_datafile, dtype=None, \n",
    "                             names=\"SN,mag,magerr,mu,muerr,absM,absMerr,ebv,dm15,host,hostmorph\"\n",
    "                                   + \",morph,mwaj,kcorr,ref,sample\")\n",
    "\n",
    "calib_unc = calib_readin[\"absMerr\"]\n",
    "calib_data = calib_readin[\"absM\"]\n",
    "calib_SN = np.char.decode(calib_readin[\"SN\"])\n",
    "calib_host = np.char.decode(calib_readin[\"host\"])\n",
    "calib_mu = calib_readin[\"mu\"]\n",
    "calib_muerr = calib_readin[\"muerr\"]\n",
    "calib_mag = calib_readin[\"mag\"]\n",
    "calib_magerr = calib_readin[\"magerr\"]\n",
    "calib_kcorr = calib_readin[\"kcorr\"]\n",
    "calib_ref = np.char.decode(calib_readin[\"ref\"])\n",
    "calib_sample = np.char.decode(calib_readin[\"sample\"])\n",
    "calib_mwaj = calib_readin[\"mwaj\"]\n",
    "ncalib = len(calib_data)\n",
    "\n",
    "# sanity checks of the file\n",
    "testabsM = calib_readin[\"mag\"] - calib_readin[\"mu\"]\n",
    "testerr = np.sqrt(calib_readin[\"magerr\"]**2 + calib_readin[\"muerr\"]**2) \n",
    "if np.max(np.abs(testabsM-calib_data)) > 1e-10:\n",
    "    print(\"calibrator absolute magnitude doesn't match calculated value?!\")\n",
    "if np.max(np.abs(testerr-calib_unc)) > 5e-4:\n",
    "    print(\"calibrator absolute magnitude uncertainty doesn't match calculated value?!\")\n",
    "# no output if things are okay\n",
    "\n",
    "calib_wtmean, sumweights = np.average(calib_data,weights=calib_unc**(-2),returned=True)\n",
    "calib_wterr = sumweights**(-0.5)\n",
    "\n",
    "cpull = (calib_data - calib_wtmean)/calib_unc\n",
    "cchisq = np.sum(cpull**2)\n",
    "sigcalib = np.std(calib_data)\n",
    "\n",
    "print(\"ncalib: {:d}\".format(ncalib))\n",
    "print(\"dispersion (stddev of residuals): {:.3f} mag\".format(sigcalib))\n",
    "print(\"chisq/dof: {:.1f}/{:d}\".format(cchisq,ncalib-1))\n",
    "print(\"weighted average (no intrinsic scatter): {:.3f} +/- {:.3f}\".format(calib_wtmean,calib_wterr))"
   ]
  },
  {
   "cell_type": "code",
   "execution_count": 9,
   "metadata": {
    "collapsed": false
   },
   "outputs": [
    {
     "name": "stdout",
     "output_type": "stream",
     "text": [
      "output done: table_calibrators.tex\n"
     ]
    }
   ],
   "source": [
    "with open(output_table,\"w\") as f:\n",
    "    f.write(\"% \" + output_table + \" created at UT {:%Y-%m-%d %H:%M:%S}\".format(datetime.datetime.utcnow())+'\\n')\n",
    "    f.write(r\"\\begin{tabular}{|c|c|cc|cc|cc|c|c|c|}\"+'\\n')\n",
    "    f.write(r\"\\hline\"+'\\n')\n",
    "    f.write(r\"Supernova & Host Galaxy & $m_J$ & $\\sigma_{\\rm fit}$ & \"+'\\n')\n",
    "    f.write(r\" $\\mu_{\\rm Ceph}$ & $\\sigma_{\\rm Ceph}$  & \"+'\\n')\n",
    "    f.write(r\" $M_J$ & $\\sigma_M$  & MW $A_J$ & $K_J$ & SN $J$-band   \\\\\"+'\\n')\n",
    "    f.write(r\" & & (mag) & (mag) & (mag) & (mag) & (mag) & (mag) & (mag) & (mag) & Photometry Reference \\\\\"+'\\n')\n",
    "    f.write(r\"\\hline\"+'\\n')\n",
    "\n",
    "    for i in range(ncalib):\n",
    "        if calib_sample[i] == \"other\":\n",
    "            sampstr = \"\"\n",
    "        else:\n",
    "            sampstr = \"; \" + calib_sample[i]\n",
    "        f.write(r\"{:9s} & {:9s} \".format(calib_SN[i].replace(\"SN\",\"SN \"),calib_host[i].replace(\"GC\",\"GC \")) +\n",
    "              r\"& {:6.3f} & {:5.3f} \".format(calib_mag[i],calib_magerr[i]) + \n",
    "              r\"& {:6.3f} & {:5.3f} \".format(calib_mu[i],calib_muerr[i]) + \n",
    "              r\"& ${:7.3f}$ & {:5.3f} \".format(calib_data[i],calib_unc[i]) + \n",
    "              r\"& {:5.3f} \".format(calib_mwaj[i]) +\n",
    "              r\"& ${:5.3f}$ & \\citet\".format(calib_kcorr[i]) + \"{\"+\n",
    "              r\"{:s}\".format(calib_ref[i]) + \"}\" + sampstr + r\" \\\\\"+'\\n')\n",
    "    f.write(r\"\\hline\"+'\\n')\n",
    "    f.write(r\"\\end{tabular}\"+'\\n')\n",
    "    \n",
    "print(\"output done: \" + output_table)"
   ]
  },
  {
   "cell_type": "code",
   "execution_count": 10,
   "metadata": {
    "collapsed": false
   },
   "outputs": [
    {
     "data": {
      "image/png": "[encoded data removed]",
      "text/plain": [
       "<matplotlib.figure.Figure at 0x110253320>"
      ]
     },
     "metadata": {},
     "output_type": "display_data"
    }
   ],
   "source": [
    "# plot calibrators\n",
    "x = np.arange(ncalib)\n",
    "figcalib = plt.figure(figsize=(6,4))\n",
    "plt.errorbar(x,calib_data,yerr=calib_unc,marker='o',linestyle='none',ms=8.,alpha=0.8)\n",
    "plt.xticks(x,calib_SN,rotation=30,fontsize=12)\n",
    "plt.yticks(fontsize=12)\n",
    "plt.ylabel(r\"$M_J$ (mag)\", fontsize=16)\n",
    "plt.xlim((-0.5,ncalib-0.5))\n",
    "plt.text(1.4,-18.97,r\"N$_\\mathrm{calib}$ = \" + \"{:d}\".format(ncalib),fontsize=16)\n",
    "plt.text(0.5,-19.06,r\"$\\sigma_\\mathrm{calib}$ = \" + \"{:.3f} mag\".format(sigcalib),fontsize=16)\n",
    "plt.savefig(output_figure,bbox_inches=\"tight\")\n",
    "plt.show()"
   ]
  },
  {
   "cell_type": "code",
   "execution_count": null,
   "metadata": {
    "collapsed": true
   },
   "outputs": [],
   "source": []
  }
 ],
 "metadata": {
  "kernelspec": {
   "display_name": "Python 3",
   "language": "python",
   "name": "python3"
  },
  "language_info": {
   "codemirror_mode": {
    "name": "ipython",
    "version": 3
   },
   "file_extension": ".py",
   "mimetype": "text/x-python",
   "name": "python",
   "nbconvert_exporter": "python",
   "pygments_lexer": "ipython3",
   "version": "3.4.5"
  }
 },
 "nbformat": 4,
 "nbformat_minor": 0
}
