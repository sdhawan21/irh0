{
 "cells": [
  {
   "cell_type": "code",
   "execution_count": 1,
   "metadata": {
    "collapsed": false
   },
   "outputs": [],
   "source": [
    "%matplotlib inline\n",
    "import matplotlib.pyplot as plt\n",
    "import numpy as np\n",
    "from astropy.cosmology import FlatLambdaCDM\n",
    "from astropy import units as u\n",
    "import datetime\n",
    "\n",
    "clight = 299792.458  # speed of light in km/s"
   ]
  },
  {
   "cell_type": "code",
   "execution_count": 2,
   "metadata": {
    "collapsed": true
   },
   "outputs": [],
   "source": [
    "# analysis parameters fixed to make figure\n",
    "sample = \"fiducial\"  # sample cuts to make (see below)\n",
    "redshift = \"nedfinal\" # choices are \"literature\", \"nedhost\", \"nedfinal\", or \"flowcorr\" \n",
    "pecvel_unc = 150.0   # peculiar velocity uncertainty in km/s\n",
    "distmode = \"kinematic\"  # use kinematic (q0,j0) or dynamic (Om,Ol) luminosity distance formula\n",
    "use_median = False # set the Hubble residual and calibrator zeropoints relative to median rather than weighted mean"
   ]
  },
  {
   "cell_type": "code",
   "execution_count": 3,
   "metadata": {
    "collapsed": false
   },
   "outputs": [
    {
     "name": "stdout",
     "output_type": "stream",
     "text": [
      "(-9, 9, -9, 9, -9, 1.5, -9, 9, 9, 'calibrators.dat', 'hubbleflow.dat')\n"
     ]
    }
   ],
   "source": [
    "# cuts list: morphmin, morphmax, ebvmin, ebvmax, dm15min, dm15max, zmin, zmax, mwajmax, calibfile, hflowfile\n",
    "samples = { \"fiducial\":   ( -9,  9, -9,   9,  -9, 1.5,   -9,    9,   9, \"calibrators.dat\", \"hubbleflow.dat\"), \n",
    "            \"lowebv\":     ( -9,  9, -9, 0.3,  -9, 1.5,   -9,    9,   9, \"calibrators.dat\", \"hubbleflow.dat\"),\n",
    "            \"spirals\":    (1.9,  9, -9,   9,  -9, 1.5,   -9,    9,   9, \"calibrators.dat\", \"hubbleflow.dat\"),\n",
    "            \"lowmwaj\":    ( -9,  9, -9,   9,  -9, 1.5,   -9,    9, 0.3, \"calibrators.dat\", \"hubbleflow.dat\"),\n",
    "            \"vlowmwaj\":   ( -9,  9, -9,   9,  -9, 1.5,   -9,    9,0.15, \"calibrators.dat\", \"hubbleflow.dat\"),\n",
    "            \"restricted\": (1.9,  9, -9, 0.3,  -9, 1.3,   -9,    9, 0.3, \"calibrators.dat\", \"hubbleflow.dat\"),\n",
    "            \"stringent\":  (1.9,  9, -9, 0.3, 1.0, 1.2,   -9,    9,0.15, \"calibrators.dat\", \"hubbleflow.dat\"),\n",
    "            \"all\":        ( -9,  9, -9,   9,  -9,   9,   -9,    9,   9, \"calibrators.dat\", \"hubbleflow.dat\"),\n",
    "            \"z02\":        ( -9,  9, -9,   9,  -9, 1.5, 0.02,    9,   9, \"calibrators.dat\", \"hubbleflow.dat\"),\n",
    "            \"z025\":       ( -9,  9, -9,   9,  -9, 1.5, 0.025,   9,   9, \"calibrators.dat\", \"hubbleflow.dat\"),\n",
    "            \"z03\":        ( -9,  9, -9,   9,  -9, 1.5, 0.03,    9,   9, \"calibrators.dat\", \"hubbleflow.dat\"),\n",
    "            \"z07\":        ( -9,  9, -9,   9,  -9, 1.5,   -9, 0.07,   9, \"calibrators.dat\", \"hubbleflow.dat\"),\n",
    "            \"z0207\":      ( -9,  9, -9,   9,  -9, 1.5, 0.02, 0.07,   9, \"calibrators.dat\", \"hubbleflow.dat\"),\n",
    "            \"csp\":        ( -9,  9, -9,   9,  -9, 1.5,   -9,    9,   9, \"calibrators.dat\", \"hubbleflow_CSP.dat\"),\n",
    "            \"cspall\":     ( -9,  9, -9,   9,  -9,   9,   -9,    9,   9, \"calibrators.dat\", \"hubbleflow_CSP.dat\"),\n",
    "            \"cfa\":        ( -9,  9, -9,   9,  -9, 1.5,   -9,    9,   9, \"calibrators.dat\", \"hubbleflow_CfA.dat\")\n",
    "          }\n",
    "\n",
    "morphmin, morphmax, ebvmin, ebvmax, dm15min, dm15max, zmin, zmax, mwajmax, calibfile, hflowfile = samples.get(sample) \n",
    "\n",
    "print(morphmin, morphmax, ebvmin, ebvmax, dm15min, dm15max, zmin, zmax, mwajmax, calibfile, hflowfile)\n",
    "\n",
    "# data for calibrators\n",
    "calib_datafile = calibfile  \n",
    "\n",
    "# data for Hubble flow objects\n",
    "hflow_datafile = hflowfile "
   ]
  },
  {
   "cell_type": "code",
   "execution_count": 4,
   "metadata": {
    "collapsed": false
   },
   "outputs": [],
   "source": [
    "# output files\n",
    "output_table = \"table_hflow.tex\"\n",
    "output_figure = \"fig_hflow.pdf\""
   ]
  },
  {
   "cell_type": "code",
   "execution_count": 5,
   "metadata": {
    "collapsed": true
   },
   "outputs": [],
   "source": [
    "# function to convert peculiar velocity uncertainty (km/s) into magnitudes\n",
    "#    this includes a small \"correction factor\" that accounts for the nonlinearity in a std LCDM cosmology\n",
    "#    the correction factor is negligible at low redshift\n",
    "def pverr2mag(z,pverr,correction=True):\n",
    "\n",
    "    if correction:\n",
    "        assert ((np.min(z) >= 0) and (np.max(z) <= 3)),\"Correction factor defined for z=0-3 only\"\n",
    "        correction_coeffs = [1.00171318, 0.74494186, -0.97690614, 0.69153719, -0.28044894, \n",
    "                             0.06058092, -0.00537420]\n",
    "        corrfactor = np.polyval(correction_coeffs[::-1],z)\n",
    "    else:\n",
    "        corrfactor = 1.0\n",
    "        \n",
    "    return 5.0/np.log(10.0)*pverr/299792.458/z*corrfactor"
   ]
  },
  {
   "cell_type": "code",
   "execution_count": 6,
   "metadata": {
    "collapsed": false
   },
   "outputs": [],
   "source": [
    "# function to return distance modulus mu(z) assuming H0=70\n",
    "#   mode=\"dynamic\" uses flat LCDM cosmology with Om=0.3, Om=0.7 (+ photons,neutrinos)\n",
    "#   mode=\"kinematic\" uses approximation with q0=-0.55, j0=1\n",
    "#   negligible difference between these at low redshift\n",
    "def distmod70(z,mode=\"dynamic\"):\n",
    "    if mode == \"dynamic\":\n",
    "        cosmo = FlatLambdaCDM(H0=70.0, Om0=0.3)\n",
    "        return 5.0 * np.log10(cosmo.luminosity_distance(z)/u.Mpc) + 25.0\n",
    "    elif mode == \"kinematic\":\n",
    "        q0 = -0.55\n",
    "        j0 = 1.0\n",
    "        return 5.0 * np.log10(299792.458*z/70.0 *\n",
    "                              (1 + (1 - q0)*z/2.0 \n",
    "                               - (1 - q0 - 3*q0**2 + j0)*(z**2)/6.0)) + 25.0\n",
    "    else:\n",
    "        raise ValueError(\"Undefined mode\")    "
   ]
  },
  {
   "cell_type": "code",
   "execution_count": 7,
   "metadata": {
    "collapsed": false
   },
   "outputs": [],
   "source": [
    "## Hubble flow objects\n",
    "hflow_readin = np.genfromtxt(hflow_datafile,dtype=None,\n",
    "                             names=\"SN,zlit,zned,znederr,znedfinal,znedfinalerr,zflowcorrected,\" +\n",
    "                             \"mag,magerr,ebv,dm15,host,hostmorph,morph,mwaj,survey\")\n",
    "\n",
    "if redshift == \"literature\":\n",
    "    zobstr = \"zlit\"\n",
    "elif redshift == \"nedhost\":\n",
    "    zobstr = \"zned\"\n",
    "    zerrstr = \"znederr\"\n",
    "elif redshift == \"nedfinal\":\n",
    "    zobstr = \"znedfinal\"\n",
    "    zerrstr = \"znedfinalerr\"\n",
    "elif redshift == \"flowcorr\":\n",
    "    zobstr = \"zflowcorrected\"\n",
    "    zerrstr = \"znedfinalerr\"\n",
    "else: \n",
    "    raise ValueError(\"Undefined redshift type\")\n",
    "\n",
    "# apply sample cuts\n",
    "hgood = (  (hflow_readin[\"ebv\"] >= ebvmin) & (hflow_readin[\"ebv\"] <= ebvmax)\n",
    "         & (hflow_readin[\"morph\"] >= morphmin) & (hflow_readin[\"morph\"] <= morphmax)\n",
    "         & (hflow_readin[\"dm15\"] >= dm15min) & (hflow_readin[\"dm15\"] <= dm15max) \n",
    "         & (hflow_readin[zobstr] >= zmin) & (hflow_readin[zobstr] <= zmax) \n",
    "         & (hflow_readin[\"mwaj\"] <= mwajmax) )\n",
    "\n",
    "all_readin = hflow_readin\n",
    "hflow_readin = hflow_readin[hgood]\n",
    "\n",
    "hflow_data = hflow_readin[\"mag\"]\n",
    "hflow_ptunc = hflow_readin[\"magerr\"]\n",
    "nhflow = len(hflow_data)\n",
    "\n",
    "hflow_zobs = hflow_readin[zobstr]\n",
    "if redshift == \"literature\":\n",
    "    hflow_zerr = 0.\n",
    "else:\n",
    "    hflow_zerr = hflow_readin[zerrstr]\n",
    "    \n",
    "hflow_verr = hflow_zerr * clight\n",
    "\n",
    "# total z error is redshift measurement uncertainty plus peculiar velocity uncertainty\n",
    "hflow_totverr = np.sqrt(hflow_verr**2 + pecvel_unc**2)\n",
    "hflow_totzerr = hflow_totverr / clight\n",
    "\n",
    "# convert z error into magnitudes\n",
    "hflow_pvmagerr = pverr2mag(hflow_zobs,hflow_totverr)\n",
    "hflow_unc = np.sqrt(hflow_ptunc**2 + hflow_pvmagerr**2)"
   ]
  },
  {
   "cell_type": "code",
   "execution_count": 8,
   "metadata": {
    "collapsed": false
   },
   "outputs": [
    {
     "name": "stdout",
     "output_type": "stream",
     "text": [
      "nhflow: 27\n",
      "dispersion (stddev of residuals): 0.103 mag\n",
      "chisq/dof: 63.4/26\n"
     ]
    }
   ],
   "source": [
    "# for the likelihood function, we pass in the Hubble flow data as the absolute magnitude assuming H0=70\n",
    "# the best fit H0 is based on the difference between these and the calibrator absolute magnitudes\n",
    "hflow_mu70 = distmod70(hflow_zobs,mode=distmode)\n",
    "hflow_M70 = hflow_data - hflow_mu70\n",
    "\n",
    "# calculate Hubble residuals\n",
    "hflow_wtmeanM = np.average(hflow_M70,weights=hflow_unc**(-2))\n",
    "hr = hflow_M70 - hflow_wtmeanM\n",
    "# use median?\n",
    "if use_median:\n",
    "    hr -= np.median(hr)\n",
    "\n",
    "hpull = hr/hflow_unc\n",
    "hchisq = np.sum(hpull**2)\n",
    "sighr = np.std(hr)\n",
    "\n",
    "print(\"nhflow: {:d}\".format(nhflow))\n",
    "print(\"dispersion (stddev of residuals): {:.3f} mag\".format(sighr))\n",
    "print(\"chisq/dof: {:.1f}/{:d}\".format(hchisq,nhflow-1))"
   ]
  },
  {
   "cell_type": "code",
   "execution_count": 9,
   "metadata": {
    "collapsed": false
   },
   "outputs": [
    {
     "data": {
      "image/png": "[encoded data removed]",
      "text/plain": [
       "<matplotlib.figure.Figure at 0x10d363d50>"
      ]
     },
     "metadata": {},
     "output_type": "display_data"
    }
   ],
   "source": [
    "# plot Hubble diagram & residuals\n",
    "fighflow = plt.figure(figsize=(6,9))\n",
    "plt.subplot('211')\n",
    "plt.errorbar(hflow_zobs,hflow_data,yerr=hflow_ptunc,xerr=hflow_totzerr,marker='o',linestyle='none',ms=8.,alpha=0.8)\n",
    "plt.ylabel(r\"$m_J$ (mag)\",fontsize=16)\n",
    "plt.xticks(fontsize=12)\n",
    "plt.yticks(fontsize=12)\n",
    "zlim = plt.xlim()\n",
    "zz = np.arange(zlim[0],zlim[1]+0.002,0.001)\n",
    "plt.plot(zz,distmod70(zz,mode=distmode)+hflow_wtmeanM)\n",
    "plt.xlim(zlim)\n",
    "plt.subplots_adjust(hspace=0.1)\n",
    "\n",
    "plt.subplot('212')\n",
    "plt.errorbar(hflow_zobs,hr,yerr=hflow_ptunc,xerr=hflow_totzerr,marker='o',linestyle='none',ms=8.,alpha=0.8)\n",
    "plt.xlabel(r\"redshift\",fontsize=16)\n",
    "plt.ylabel(r\"Hubble residual (mag)\",fontsize=16)\n",
    "plt.xticks(fontsize=12)\n",
    "plt.yticks(fontsize=12)\n",
    "plt.plot(zlim,[0,0])\n",
    "plt.xlim(zlim)\n",
    "plt.text(0.035,-0.23,r\"N$_\\mathrm{Hubble\\ flow}$ = \" + \"{:d}\".format(nhflow),fontsize=16)\n",
    "plt.text(0.035,-0.30,r\"$\\sigma_\\mathrm{Hubble\\ flow}$ = \" + \"{:.3f} mag\".format(sighr),fontsize=16)\n",
    "plt.savefig(output_figure,bbox_inches=\"tight\")\n",
    "plt.show()"
   ]
  },
  {
   "cell_type": "code",
   "execution_count": 40,
   "metadata": {
    "collapsed": false
   },
   "outputs": [
    {
     "name": "stdout",
     "output_type": "stream",
     "text": [
      "output done: table_hflow.tex\n"
     ]
    }
   ],
   "source": [
    "\n",
    "hsn = np.char.decode(all_readin[\"SN\"])\n",
    "hhost = np.char.decode(all_readin[\"host\"])\n",
    "hz = all_readin[\"znedfinal\"]\n",
    "hsigz = all_readin[\"znedfinalerr\"]\n",
    "hzfc = all_readin[\"zflowcorrected\"]\n",
    "hm = all_readin[\"mag\"]\n",
    "hmerr = all_readin[\"magerr\"]\n",
    "hmwaj = all_readin[\"mwaj\"]\n",
    "hsamp = np.char.decode(all_readin[\"survey\"])\n",
    "\n",
    "\n",
    "with open(output_table,\"w\") as f:\n",
    "    f.write(\"% \" + output_table + \" created at UT {:%Y-%m-%d %H:%M:%S}\".format(datetime.datetime.utcnow()))\n",
    "    f.write(r\"\\begin{tabular}{|c|c|cc|c|cc|c|c|}\"+'\\n')\n",
    "    f.write(r\"\\hline\"+'\\n')\n",
    "    f.write(r\"Supernova & Host Galaxy & $z_{\\rm CMB}$ & $\\sigma_z$ & $z_{\\rm CMB}$ (flow- & \"+'\\n')\n",
    "    f.write(r\"$m_J$ & $\\sigma_{\\rm fit}$ & MW $A_J$ & Survey \\\\\"+'\\n')\n",
    "    f.write(r\" & or (Cluster) & & & corrected) & (mag) & (mag) & (mag) &  \\\\\"+'\\n')\n",
    "    f.write(r\"\\hline\"+'\\n')\n",
    "\n",
    "    for i in range(len(hsn)):\n",
    "\n",
    "        host = hhost[i].replace(\"GC\",\"GC \")\n",
    "        host = host.replace(\"IC\",\"IC \")\n",
    "        host = host.replace(\"SDSS\", \"SDSS \")\n",
    "        host = host.replace(\"MCG\", \"MCG \")\n",
    "        host = host.replace(\"2MASX\", \"2MASX \")\n",
    "        host = host.replace(\"-\",\"$-$\")\n",
    "        host1 = (host.partition(\":\"))[0]\n",
    "        cluster = (host.partition(\":\"))[2]\n",
    "        cluster = cluster.replace(\"Abell\",\"Abell \")\n",
    "        \n",
    "        if cluster == \"\":\n",
    "            host = host1\n",
    "        else:\n",
    "            host = \"(\" + cluster + \")\" \n",
    "        \n",
    "        f.write(r\"{:9s} & {:32s} \".format(hsn[i].replace(\"SN\",\"SN \"),host) +\n",
    "              r\"& {:9.6f} & {:9.6f} & {:9.6f} \".format(hz[i],hsigz[i],hzfc[i]) + \n",
    "              r\"& {:6.3f} & {:5.3f} \".format(hm[i],hmerr[i]) + \n",
    "              r\"& {:6.3f} & {:s} \".format(hmwaj[i],hsamp[i]) +\n",
    "              r\" \\\\\"+'\\n')\n",
    "    f.write(r\"\\hline\"+'\\n')\n",
    "    f.write(r\"\\end{tabular}\")\n",
    "    \n",
    "print(\"output done: \" + output_table)"
   ]
  },
  {
   "cell_type": "code",
   "execution_count": null,
   "metadata": {
    "collapsed": true
   },
   "outputs": [],
   "source": []
  },
  {
   "cell_type": "code",
   "execution_count": null,
   "metadata": {
    "collapsed": true
   },
   "outputs": [],
   "source": []
  },
  {
   "cell_type": "code",
   "execution_count": null,
   "metadata": {
    "collapsed": true
   },
   "outputs": [],
   "source": []
  },
  {
   "cell_type": "code",
   "execution_count": null,
   "metadata": {
    "collapsed": true
   },
   "outputs": [],
   "source": []
  }
 ],
 "metadata": {
  "kernelspec": {
   "display_name": "Python 2",
   "language": "python",
   "name": "python2"
  },
  "language_info": {
   "codemirror_mode": {
    "name": "ipython",
    "version": 2
   },
   "file_extension": ".py",
   "mimetype": "text/x-python",
   "name": "python",
   "nbconvert_exporter": "python",
   "pygments_lexer": "ipython2",
   "version": "2.7.13"
  }
 },
 "nbformat": 4,
 "nbformat_minor": 0
}
