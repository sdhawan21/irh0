{
 "cells": [
  {
   "cell_type": "code",
   "execution_count": 1,
   "metadata": {
    "collapsed": false
   },
   "outputs": [],
   "source": [
    "%matplotlib inline\n",
    "import matplotlib.pyplot as plt\n",
    "import numpy as np\n",
    "from astropy.cosmology import FlatLambdaCDM\n",
    "from astropy import units as u\n",
    "import emcee\n",
    "import corner\n",
    "import datetime\n",
    "\n",
    "clight = 299792.458  # speed of light in km/s"
   ]
  },
  {
   "cell_type": "code",
   "execution_count": 2,
   "metadata": {
    "collapsed": true
   },
   "outputs": [],
   "source": [
    "# analysis parameters fixed to make figure for paper\n",
    "sample = \"fiducial\"  # sample cuts to make (see below)\n",
    "redshift = \"nedfinal\" # choices are \"literature\", \"nedhost\", \"nedfinal\", or \"flowcorr\" \n",
    "pecvel_unc = 150.0   # peculiar velocity uncertainty in km/s\n",
    "distmode = \"kinematic\"  # use kinematic (q0,j0) or dynamic (Om,Ol) luminosity distance formula\n",
    "use_median = False # set the Hubble residual and calibrator zeropoints relative to median rather than weighted mean"
   ]
  },
  {
   "cell_type": "code",
   "execution_count": 3,
   "metadata": {
    "collapsed": false
   },
   "outputs": [
    {
     "name": "stdout",
     "output_type": "stream",
     "text": [
      "(-9, 9, -9, 9, -9, 1.5, -9, 9, 9, 'calibrators.dat', 'hubbleflow.dat')\n"
     ]
    }
   ],
   "source": [
    "# cuts list: morphmin, morphmax, ebvmin, ebvmax, dm15min, dm15max, zmin, zmax, mwajmax, calibfile, hflowfile\n",
    "samples = { \"fiducial\":   ( -9,  9, -9,   9,  -9, 1.5,   -9,    9,   9, \"calibrators.dat\", \"hubbleflow.dat\"), \n",
    "            \"lowebv\":     ( -9,  9, -9, 0.3,  -9, 1.5,   -9,    9,   9, \"calibrators.dat\", \"hubbleflow.dat\"),\n",
    "            \"spirals\":    (1.9,  9, -9,   9,  -9, 1.5,   -9,    9,   9, \"calibrators.dat\", \"hubbleflow.dat\"),\n",
    "            \"lowmwaj\":    ( -9,  9, -9,   9,  -9, 1.5,   -9,    9, 0.3, \"calibrators.dat\", \"hubbleflow.dat\"),\n",
    "            \"vlowmwaj\":   ( -9,  9, -9,   9,  -9, 1.5,   -9,    9,0.15, \"calibrators.dat\", \"hubbleflow.dat\"),\n",
    "            \"restricted\": (1.9,  9, -9, 0.3,  -9, 1.3,   -9,    9, 0.3, \"calibrators.dat\", \"hubbleflow.dat\"),\n",
    "            \"stringent\":  (1.9,  9, -9, 0.3, 1.0, 1.2,   -9,    9,0.15, \"calibrators.dat\", \"hubbleflow.dat\"),\n",
    "            \"all\":        ( -9,  9, -9,   9,  -9,   9,   -9,    9,   9, \"calibrators.dat\", \"hubbleflow.dat\"),\n",
    "            \"z02\":        ( -9,  9, -9,   9,  -9, 1.5, 0.02,    9,   9, \"calibrators.dat\", \"hubbleflow.dat\"),\n",
    "            \"z025\":       ( -9,  9, -9,   9,  -9, 1.5, 0.025,   9,   9, \"calibrators.dat\", \"hubbleflow.dat\"),\n",
    "            \"z03\":        ( -9,  9, -9,   9,  -9, 1.5, 0.03,    9,   9, \"calibrators.dat\", \"hubbleflow.dat\"),\n",
    "            \"z07\":        ( -9,  9, -9,   9,  -9, 1.5,   -9, 0.07,   9, \"calibrators.dat\", \"hubbleflow.dat\"),\n",
    "            \"z0207\":      ( -9,  9, -9,   9,  -9, 1.5, 0.02, 0.07,   9, \"calibrators.dat\", \"hubbleflow.dat\"),\n",
    "            \"csp\":        ( -9,  9, -9,   9,  -9, 1.5,   -9,    9,   9, \"calibrators.dat\", \"hubbleflow_CSP.dat\"),\n",
    "            \"cspall\":     ( -9,  9, -9,   9,  -9,   9,   -9,    9,   9, \"calibrators.dat\", \"hubbleflow_CSP.dat\"),\n",
    "            \"cfa\":        ( -9,  9, -9,   9,  -9, 1.5,   -9,    9,   9, \"calibrators.dat\", \"hubbleflow_CfA.dat\")\n",
    "          }\n",
    "\n",
    "morphmin, morphmax, ebvmin, ebvmax, dm15min, dm15max, zmin, zmax, mwajmax, calibfile, hflowfile = samples.get(sample) \n",
    "\n",
    "print(morphmin, morphmax, ebvmin, ebvmax, dm15min, dm15max, zmin, zmax, mwajmax, calibfile, hflowfile)\n",
    "\n",
    "# data for calibrators\n",
    "calib_datafile = calibfile  \n",
    "\n",
    "# data for Hubble flow objects\n",
    "hflow_datafile = hflowfile "
   ]
  },
  {
   "cell_type": "code",
   "execution_count": 4,
   "metadata": {
    "collapsed": false
   },
   "outputs": [],
   "source": [
    "# output files\n",
    "output_figure = \"fig_diagnostic.pdf\"\n",
    "output_table = \"table_diagnostic.tex\""
   ]
  },
  {
   "cell_type": "code",
   "execution_count": 5,
   "metadata": {
    "collapsed": true
   },
   "outputs": [],
   "source": [
    "# function to convert peculiar velocity uncertainty (km/s) into magnitudes\n",
    "#    this includes a small \"correction factor\" that accounts for the nonlinearity in a std LCDM cosmology\n",
    "#    the correction factor is negligible at low redshift\n",
    "def pverr2mag(z,pverr,correction=True):\n",
    "\n",
    "    if correction:\n",
    "        assert ((np.min(z) >= 0) and (np.max(z) <= 3)),\"Correction factor defined for z=0-3 only\"\n",
    "        correction_coeffs = [1.00171318, 0.74494186, -0.97690614, 0.69153719, -0.28044894, \n",
    "                             0.06058092, -0.00537420]\n",
    "        corrfactor = np.polyval(correction_coeffs[::-1],z)\n",
    "    else:\n",
    "        corrfactor = 1.0\n",
    "        \n",
    "    return 5.0/np.log(10.0)*pverr/299792.458/z*corrfactor"
   ]
  },
  {
   "cell_type": "code",
   "execution_count": 6,
   "metadata": {
    "collapsed": false
   },
   "outputs": [],
   "source": [
    "# function to return distance modulus mu(z) assuming H0=70\n",
    "#   mode=\"dynamic\" uses flat LCDM cosmology with Om=0.3, Om=0.7 (+ photons,neutrinos)\n",
    "#   mode=\"kinematic\" uses approximation with q0=-0.55, j0=1\n",
    "#   negligible difference between these at low redshift\n",
    "def distmod70(z,mode=\"dynamic\"):\n",
    "    if mode == \"dynamic\":\n",
    "        cosmo = FlatLambdaCDM(H0=70.0, Om0=0.3)\n",
    "        return 5.0 * np.log10(cosmo.luminosity_distance(z)/u.Mpc) + 25.0\n",
    "    elif mode == \"kinematic\":\n",
    "        q0 = -0.55\n",
    "        j0 = 1.0\n",
    "        return 5.0 * np.log10(299792.458*z/70.0 *\n",
    "                              (1 + (1 - q0)*z/2.0 \n",
    "                               - (1 - q0 - 3*q0**2 + j0)*(z**2)/6.0)) + 25.0\n",
    "    else:\n",
    "        raise ValueError(\"Undefined mode\")    "
   ]
  },
  {
   "cell_type": "code",
   "execution_count": 7,
   "metadata": {
    "collapsed": false,
    "scrolled": true
   },
   "outputs": [
    {
     "name": "stdout",
     "output_type": "stream",
     "text": [
      "(9, -18.523596520298636, 55.231121990104675, 0.15978882669261515)\n"
     ]
    }
   ],
   "source": [
    "# calibrators\n",
    "calib_readin = np.genfromtxt(calib_datafile, dtype=None, \n",
    "                             names=\"SN,mag,magerr,mu,muerr,absM,absMerr,ebv,dm15,host,hostmorph,morph,mwaj,ref,sample\")\n",
    "\n",
    "# get sample cuts, but don't apply them\n",
    "good = (  (calib_readin[\"ebv\"] >= ebvmin) & (calib_readin[\"ebv\"] <= ebvmax)\n",
    "        & (calib_readin[\"morph\"] >= morphmin) & (calib_readin[\"morph\"] <= morphmax)\n",
    "        & (calib_readin[\"dm15\"] >= dm15min) & (calib_readin[\"dm15\"] <= dm15max)\n",
    "        & (calib_readin[\"mwaj\"] <= mwajmax))\n",
    "bad = ~good\n",
    "\n",
    "calib_unc = calib_readin[\"absMerr\"]\n",
    "calib_data = calib_readin[\"absM\"]\n",
    "calib_SN = np.char.decode(calib_readin[\"SN\"])\n",
    "ncalib = len(calib_data[good])\n",
    "\n",
    "calib_wtmean = np.average(calib_data[good],weights=calib_unc[good]**(-2))\n",
    "cpull = (calib_data - calib_wtmean)/calib_unc\n",
    "cchisq = np.sum(cpull[good]**2)\n",
    "sigcalib = np.std(calib_data[good])\n",
    "\n",
    "print(ncalib,calib_wtmean,cchisq,sigcalib)"
   ]
  },
  {
   "cell_type": "code",
   "execution_count": 8,
   "metadata": {
    "collapsed": false
   },
   "outputs": [],
   "source": [
    "# sanity checks of the file\n",
    "testabsM = calib_readin[\"mag\"] - calib_readin[\"mu\"]\n",
    "testerr = np.sqrt(calib_readin[\"magerr\"]**2 + calib_readin[\"muerr\"]**2) \n",
    "\n",
    "if np.max(np.abs(testabsM-calib_data)) > 1e-10:\n",
    "    print(\"calibrator absolute magnitude doesn't match calculated value?!\")\n",
    "\n",
    "if np.max(np.abs(testerr-calib_unc)) > 5e-4:\n",
    "    print(\"calibrator absolute magnitude uncertainty doesn't match calculated value?!\")\n",
    "    \n",
    "# no output if things are okay"
   ]
  },
  {
   "cell_type": "code",
   "execution_count": 9,
   "metadata": {
    "collapsed": false
   },
   "outputs": [],
   "source": [
    "## Hubble flow objects\n",
    "hflow_readin = np.genfromtxt(hflow_datafile,dtype=None,\n",
    "                             names=\"SN,zlit,zned,znederr,znedfinal,znedfinalerr,zflowcorrected,\" +\n",
    "                             \"mag,magerr,ebv,dm15,host,hostmorph,morph,mwaj,survey\")\n",
    "\n",
    "if redshift == \"literature\":\n",
    "    zobstr = \"zlit\"\n",
    "elif redshift == \"nedhost\":\n",
    "    zobstr = \"zned\"\n",
    "    zerrstr = \"znederr\"\n",
    "elif redshift == \"nedfinal\":\n",
    "    zobstr = \"znedfinal\"\n",
    "    zerrstr = \"znedfinalerr\"\n",
    "elif redshift == \"flowcorr\":\n",
    "    zobstr = \"zflowcorrected\"\n",
    "    zerrstr = \"znedfinalerr\"\n",
    "else: \n",
    "    raise ValueError(\"Undefined redshift type\")\n",
    "    \n",
    "# get sample cuts but don't apply them\n",
    "hgood = (  (hflow_readin[\"ebv\"] >= ebvmin) & (hflow_readin[\"ebv\"] <= ebvmax)\n",
    "         & (hflow_readin[\"morph\"] >= morphmin) & (hflow_readin[\"morph\"] <= morphmax)\n",
    "         & (hflow_readin[\"dm15\"] >= dm15min) & (hflow_readin[\"dm15\"] <= dm15max) \n",
    "         & (hflow_readin[zobstr] >= zmin) & (hflow_readin[zobstr] <= zmax) \n",
    "         & (hflow_readin[\"mwaj\"] <= mwajmax) )\n",
    "hbad = ~hgood\n",
    "\n",
    "hflow_data = hflow_readin[\"mag\"]\n",
    "hflow_ptunc = hflow_readin[\"magerr\"]\n",
    "nhflow = len(hflow_data[hgood])\n",
    "\n",
    "hflow_zobs = hflow_readin[zobstr]\n",
    "if redshift == \"literature\":\n",
    "    hflow_zerr = 0.\n",
    "else:\n",
    "    hflow_zerr = hflow_readin[zerrstr]\n",
    "    \n",
    "hflow_verr = hflow_zerr * clight\n",
    "\n",
    "# total z error is redshift measurement uncertainty plus peculiar velocity uncertainty\n",
    "hflow_totverr = np.sqrt(hflow_verr**2 + pecvel_unc**2)\n",
    "hflow_totzerr = hflow_totverr / clight\n",
    "\n",
    "# convert z error into magnitudes\n",
    "hflow_pvmagerr = pverr2mag(hflow_zobs,hflow_totverr)\n",
    "hflow_unc = np.sqrt(hflow_ptunc**2 + hflow_pvmagerr**2)"
   ]
  },
  {
   "cell_type": "code",
   "execution_count": 10,
   "metadata": {
    "collapsed": false
   },
   "outputs": [
    {
     "name": "stdout",
     "output_type": "stream",
     "text": [
      "(27, -18.617066257956399, 63.44054120517665, 0.10317973825652733)\n"
     ]
    }
   ],
   "source": [
    "# for the likelihood function, we pass in the Hubble flow data as the absolute magnitude assuming H0=70\n",
    "# the best fit H0 is based on the difference between these and the calibrator absolute magnitudes\n",
    "hflow_mu70 = distmod70(hflow_zobs,mode=distmode)\n",
    "hflow_M70 = hflow_data - hflow_mu70\n",
    "\n",
    "# calculate Hubble residuals\n",
    "hflow_wtmeanM = np.average(hflow_M70[hgood],weights=hflow_unc[hgood]**(-2))\n",
    "hr = hflow_M70 - hflow_wtmeanM\n",
    "# use median?\n",
    "if use_median:\n",
    "    hr -= np.median(hr[hgood])\n",
    "\n",
    "hpull = hr/hflow_unc\n",
    "hchisq = np.sum(hpull[hgood]**2)\n",
    "sighr = np.std(hr[hgood])\n",
    "\n",
    "print(nhflow, hflow_wtmeanM, hchisq, sighr)"
   ]
  },
  {
   "cell_type": "code",
   "execution_count": 11,
   "metadata": {
    "collapsed": false
   },
   "outputs": [
    {
     "data": {
      "image/png": "[encoded data removed]",
      "text/plain": [
       "<matplotlib.figure.Figure at 0x1149c8450>"
      ]
     },
     "metadata": {},
     "output_type": "display_data"
    }
   ],
   "source": [
    "# diagnostic plots comparing calibrators and Hubble flow objects\n",
    "\n",
    "calib_ebv = calib_readin[\"ebv\"]\n",
    "calib_dm15 = calib_readin[\"dm15\"]\n",
    "calib_morph = calib_readin[\"morph\"]\n",
    "\n",
    "hflow_ebv = hflow_readin[\"ebv\"]\n",
    "hflow_dm15 = hflow_readin[\"dm15\"]\n",
    "hflow_morph = hflow_readin[\"morph\"]\n",
    "\n",
    "figall_diag = plt.figure(figsize=(7,10))\n",
    "\n",
    "ylim = np.array([-0.7,0.7])\n",
    "calib_wtmeanM = np.average(calib_data,weights=calib_unc**(-2))\n",
    "\n",
    "if use_median:\n",
    "    calib_zp = np.median(calib_data)\n",
    "else:\n",
    "    calib_zp = calib_wtmeanM\n",
    "\n",
    "plt.subplot2grid((3,1), (0,0))\n",
    "plt.subplots_adjust(hspace=0.0)\n",
    "plt.errorbar(hflow_morph[hbad],hr[hbad],yerr=hflow_unc[hbad],ms=8.,mew=1.5\n",
    "             ,marker='o',linestyle='none',alpha=0.6,color='C0',fillstyle='none')\n",
    "plt.errorbar(hflow_morph[hgood],hr[hgood],yerr=hflow_unc[hgood],ms=8.,mew=1.5\n",
    "             ,marker='o',linestyle='none',alpha=0.8,label='Hubble flow',color='C0')\n",
    "plt.ylabel(r\"Hubble residual (mag)\",fontsize=16,color='C0')\n",
    "plt.xlabel(r\"host galaxy morphology\", fontsize=16)\n",
    "plt.ylim(ylim)\n",
    "plt.tick_params('y', colors='C0')\n",
    "ax2 = plt.twinx()\n",
    "ax2.errorbar(calib_morph[bad],calib_data[bad],yerr=calib_unc[bad],ms=8.,mew=1.5\n",
    "             ,marker='s',linestyle='none',color='C3',alpha=0.6,fillstyle='none')\n",
    "ax2.errorbar(calib_morph[good],calib_data[good],yerr=calib_unc[good],ms=8.,mew=1.5\n",
    "             ,marker='s',linestyle='none',color='C3',alpha=0.8,label='calibrator')\n",
    "plt.ylabel(r\"calibrator $M_J$ (mag)\", fontsize=16, color='C3')\n",
    "ax2.tick_params('y', colors='C3')\n",
    "plt.xlim([-0.5,5.5])\n",
    "plt.ylim(ylim+calib_zp)\n",
    "plt.xticks([0,1,2,3,4,5],['E','S0','Sa','Sb','Sc','Sd/Irr'])\n",
    "\n",
    "plt.subplot2grid((3,1), (1,0))\n",
    "plt.scatter(hflow_ebv,hr,marker='')\n",
    "plt.errorbar(hflow_ebv[hbad],hr[hbad],yerr=hflow_unc[hbad],ms=8.,mew=1.5\n",
    "             ,marker='o',linestyle='none',alpha=0.6,color='C0',fillstyle='none')\n",
    "plt.errorbar(hflow_ebv[hgood],hr[hgood],yerr=hflow_unc[hgood],ms=8.,mew=1.5\n",
    "             ,marker='o',linestyle='none',alpha=0.8,label='Hubble flow',color='C0')\n",
    "plt.ylabel(r\"Hubble residual (mag)\",fontsize=16,color='C0')\n",
    "plt.xlabel(r\"optical light curve host $E(B-V)$ (mag)\", fontsize=16)\n",
    "plt.ylim(ylim)\n",
    "plt.tick_params('y', colors='C0')\n",
    "ax2 = plt.twinx()\n",
    "ax2.errorbar(calib_ebv[bad],calib_data[bad],yerr=calib_unc[bad],ms=8.,mew=1.5\n",
    "             ,marker='s',linestyle='none',color='C3',alpha=0.6,fillstyle='none')\n",
    "ax2.errorbar(calib_ebv[good],calib_data[good],yerr=calib_unc[good],ms=8.,mew=1.5\n",
    "             ,marker='s',linestyle='none',color='C3',alpha=0.8,label='calibrator')\n",
    "plt.ylabel(r\"calibrator $M_J$ (mag)\", fontsize=16, color='C3')\n",
    "ax2.tick_params('y', colors='C3')\n",
    "plt.ylim(ylim+calib_zp)\n",
    "\n",
    "plt.subplot2grid((3,1), (2,0))\n",
    "plt.scatter(hflow_dm15,hr,marker='')\n",
    "plt.errorbar(hflow_dm15[hbad],hr[hbad],yerr=hflow_unc[hbad],ms=8.,mew=1.5\n",
    "             ,marker='o',linestyle='none',alpha=0.6,fillstyle='none',color='C0')\n",
    "plt.errorbar(hflow_dm15[hgood],hr[hgood],yerr=hflow_unc[hgood],ms=8.,mew=1.5\n",
    "             ,marker='o',linestyle='none',alpha=0.8,label='Hubble flow',color='C0')\n",
    "plt.ylabel(r\"Hubble residual (mag)\",fontsize=16,color='C0')\n",
    "plt.xlabel(r\"optical light curve $\\Delta m_{15}(B)$\", fontsize=16)\n",
    "plt.ylim(ylim)\n",
    "plt.tick_params('y', colors='C0')\n",
    "ax2 = plt.twinx()\n",
    "ax2.errorbar(calib_dm15[bad],calib_data[bad],yerr=calib_unc[bad],ms=8.,mew=1.5\n",
    "             ,marker='s',linestyle='none',color='C3',alpha=0.8,fillstyle='none')\n",
    "ax2.errorbar(calib_dm15[good],calib_data[good],yerr=calib_unc[good],ms=8.,mew=1.5\n",
    "             ,marker='s',linestyle='none',color='C3',alpha=0.8,label='calibrator')\n",
    "plt.ylabel(r\"calibrator $M_J$ (mag)\", fontsize=16, color='C3')\n",
    "ax2.tick_params('y', colors='C3')\n",
    "plt.ylim(ylim+calib_zp)\n",
    "\n",
    "plt.tight_layout()\n",
    "plt.savefig(output_figure,bbox_inches=\"tight\")\n",
    "plt.show()"
   ]
  },
  {
   "cell_type": "code",
   "execution_count": 12,
   "metadata": {
    "collapsed": false
   },
   "outputs": [
    {
     "ename": "SyntaxError",
     "evalue": "invalid syntax (<ipython-input-12-f11402097094>, line 9)",
     "output_type": "error",
     "traceback": [
      "\u001b[0;36m  File \u001b[0;32m\"<ipython-input-12-f11402097094>\"\u001b[0;36m, line \u001b[0;32m9\u001b[0m\n\u001b[0;31m    print(\"% \" + output_table + \" created at UT {:%Y-%m-%d %H:%M:%S}\".format(datetime.datetime.utcnow()), file=f)\u001b[0m\n\u001b[0m                                                                                                              ^\u001b[0m\n\u001b[0;31mSyntaxError\u001b[0m\u001b[0;31m:\u001b[0m invalid syntax\n"
     ]
    }
   ],
   "source": [
    "calib_host = np.char.decode(calib_readin[\"host\"])\n",
    "hflow_host = np.char.decode(hflow_readin[\"host\"])\n",
    "hflow_SN = np.char.decode(hflow_readin[\"SN\"])\n",
    "calib_morphstr = np.char.decode(calib_readin[\"hostmorph\"])\n",
    "hflow_morphstr = np.char.decode(hflow_readin[\"hostmorph\"])\n",
    "\n",
    "\n",
    "with open(output_table,\"w\") as f:\n",
    "    print(\"% \" + output_table + \" created at UT {:%Y-%m-%d %H:%M:%S}\".format(datetime.datetime.utcnow()), file=f)\n",
    "    print(r\"\\begin{tabular}{|c|c|c|c|c|c|}\", file=f)\n",
    "    print(r\"\\hline\", file=f)\n",
    "    print(r\"Supernova & $E(B-V)_{\\rm host}$ & $\\Delta m_{15}(B)$ & Host Galaxy & Morphology & Code \\\\ \", file=f)\n",
    "    print(r\" & (mag) & (mag) &  & & \\\\\", file=f)\n",
    "    print(r\"\\hline\", file=f)\n",
    "\n",
    "    for i in range(len(calib_SN)):\n",
    "        host = calib_host[i].replace(\"GC\",\"GC \")\n",
    "        print(r\"{:9s} & \".format(calib_SN[i].replace(\"SN\",\"SN \")) +\n",
    "              r\"{:.3f} & {:.2f} & {:25s} & \".format(calib_ebv[i],calib_dm15[i],host) +\n",
    "              r\"{:10s} & {:.1f}\".format(calib_morphstr[i],calib_morph[i]) +\n",
    "              r\" \\\\\", file=f)\n",
    "    print(r\" & & & & & \\\\\", file=f)\n",
    "    #print(r\"\\hline\", file=f)\n",
    "    for i in range(len(hflow_SN)):\n",
    "        host = hflow_host[i].replace(\"GC\",\"GC \")\n",
    "        host = host.replace(\"IC\",\"IC \")\n",
    "        host = host.replace(\"SDSS\", \"SDSS \")\n",
    "        host = host.replace(\"MCG\", \"MCG \")\n",
    "        host = host.replace(\"2MASX\", \"2MASX \")\n",
    "        host = host.replace(\"-\",\"$-$\")\n",
    "        host = (host.partition(\":\"))[0]\n",
    "        print(r\"{:9s} & \".format(hflow_SN[i].replace(\"SN\",\"SN \")) +\n",
    "              r\"{:.3f} & {:.2f} & {:25s} & \".format(hflow_ebv[i],hflow_dm15[i],host) +\n",
    "              r\"{:10s} & {:.1f}\".format(hflow_morphstr[i],hflow_morph[i]) +\n",
    "              r\" \\\\\", file=f)\n",
    "    print(r\"\\hline\", file=f)\n",
    "    print(r\"\\end{tabular}\", file=f)\n",
    "    \n",
    "print(\"output done: \" + output_table)"
   ]
  },
  {
   "cell_type": "code",
   "execution_count": null,
   "metadata": {
    "collapsed": false
   },
   "outputs": [],
   "source": []
  },
  {
   "cell_type": "code",
   "execution_count": null,
   "metadata": {
    "collapsed": true
   },
   "outputs": [],
   "source": []
  }
 ],
 "metadata": {
  "kernelspec": {
   "display_name": "Python 2",
   "language": "python",
   "name": "python2"
  },
  "language_info": {
   "codemirror_mode": {
    "name": "ipython",
    "version": 2
   },
   "file_extension": ".py",
   "mimetype": "text/x-python",
   "name": "python",
   "nbconvert_exporter": "python",
   "pygments_lexer": "ipython2",
   "version": "2.7.13"
  }
 },
 "nbformat": 4,
 "nbformat_minor": 0
}
